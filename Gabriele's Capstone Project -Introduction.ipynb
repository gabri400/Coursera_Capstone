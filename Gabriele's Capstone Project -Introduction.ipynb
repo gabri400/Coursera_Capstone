{
    "cells": [
        {
            "cell_type": "markdown",
            "metadata": {
                "collapsed": true
            },
            "source": "<h1> Gabriele's Capstone Project - A restaurant in Rome <h1>"
        },
        {
            "cell_type": "markdown",
            "metadata": {},
            "source": "<h2> Introduction/Business Problem <h2>"
        },
        {
            "cell_type": "markdown",
            "metadata": {},
            "source": "Imagine that you want to open a restaurant in the city of Rome; what is the best place to open it? \nThere are many considerations to do in order to take a decision like this: the number of possible customers, what is the number of restaurants in a particular location and so on..."
        },
        {
            "cell_type": "markdown",
            "metadata": {},
            "source": "Tourism and restaurant entrepeneurs should be interested by this project, in particular because this analysis is important in order to have the best profit."
        },
        {
            "cell_type": "markdown",
            "metadata": {},
            "source": "We use Foursquare data to see a lot of characteristics about restaurants venue, number of customers and so on. After that we analyse the data obtained in order to choose the best location for a new restaurant in Rome."
        }
    ],
    "metadata": {
        "kernelspec": {
            "display_name": "Python 3.6",
            "language": "python",
            "name": "python3"
        },
        "language_info": {
            "codemirror_mode": {
                "name": "ipython",
                "version": 3
            },
            "file_extension": ".py",
            "mimetype": "text/x-python",
            "name": "python",
            "nbconvert_exporter": "python",
            "pygments_lexer": "ipython3",
            "version": "3.6.9"
        }
    },
    "nbformat": 4,
    "nbformat_minor": 1
}